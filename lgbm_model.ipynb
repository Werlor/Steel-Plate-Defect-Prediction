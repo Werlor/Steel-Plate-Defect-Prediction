{
 "cells": [
  {
   "cell_type": "code",
   "execution_count": 1,
   "id": "4ded7b94-262c-44d7-a2d4-e3ad806e52ab",
   "metadata": {},
   "outputs": [],
   "source": [
    "import pandas as pd\n",
    "import numpy as np\n",
    "\n",
    "from lightgbm import LGBMClassifier\n",
    "from sklearn.model_selection import train_test_split, cross_val_score\n",
    "from sklearn.metrics import roc_auc_score\n",
    "import optuna"
   ]
  },
  {
   "cell_type": "code",
   "execution_count": 2,
   "id": "0774649a-3596-46bf-b7e1-1faf680dde87",
   "metadata": {},
   "outputs": [],
   "source": [
    "df = pd.read_csv('train.csv')\n",
    "df_pred = pd.read_csv('test.csv', index_col='id')\n",
    "sample = pd.read_csv('sample_submission.csv')\n",
    "\n",
    "col = df.columns[1:]\n",
    "df_more = pd.read_csv('Faults.NNA', header=None, sep='\\t', names=col)"
   ]
  },
  {
   "cell_type": "code",
   "execution_count": 3,
   "id": "059e74cf-472d-4466-b4bc-c936d6f839fb",
   "metadata": {},
   "outputs": [],
   "source": [
    "df = pd.concat([df, df_more], axis=0)"
   ]
  },
  {
   "cell_type": "code",
   "execution_count": 4,
   "id": "6a568006-61e4-4033-91c6-07c304e3a8cb",
   "metadata": {},
   "outputs": [],
   "source": [
    "df.drop(columns='id', inplace=True)"
   ]
  },
  {
   "cell_type": "code",
   "execution_count": 5,
   "id": "32c49c73-9e6b-4554-bb97-c306e1890fec",
   "metadata": {},
   "outputs": [],
   "source": [
    "lst_target = ['Pastry', 'Z_Scratch', 'K_Scatch',\n",
    "              'Stains', 'Dirtiness', 'Bumps', 'Other_Faults']\n",
    "X = df.drop(columns=lst_target)\n",
    "y = np.argmax(df[lst_target], axis=1)\n",
    "X_train, X_test, y_train, y_test = train_test_split(X, y, test_size=0.2, random_state=42)"
   ]
  },
  {
   "cell_type": "code",
   "execution_count": 6,
   "id": "91605a0e-850e-41a2-be8b-2a06c8ac2402",
   "metadata": {},
   "outputs": [],
   "source": [
    "# def objective(trial: optuna.Trial):\n",
    "#     '''\n",
    "#     Обычная сигнатура функции оптимизации для optuna.\n",
    "#     '''\n",
    "#     param = {\n",
    "#             #\"objective\": \"multiclass\",\n",
    "#             #\"metric\": \"multi_logloss\",\n",
    "#             \"verbosity\": -1,\n",
    "#             \"boosting_type\": \"gbdt\",\n",
    "#             \"random_state\": 42,\n",
    "#             \"num_class\": 7,\n",
    "#             \"learning_rate\": trial.suggest_float(\"learning_rate\", 0.01, 0.1, log=True),\n",
    "#             \"n_estimators\": trial.suggest_int(\"n_estimators\", 100, 1000),\n",
    "#             'lambda_l1': trial.suggest_float('lambda_l1', 1e-8, 10.0, log=True),\n",
    "#             'lambda_l2': trial.suggest_float('lambda_l2', 1e-8, 10.0, log=True),\n",
    "#             \"max_depth\": trial.suggest_int(\"max_depth\", 5, 25),\n",
    "#             \"colsample_bytree\": trial.suggest_float(\"colsample_bytree\", 0.3, 0.9),\n",
    "#             \"subsample\": trial.suggest_float(\"subsample\", 0.8, 1.0),\n",
    "#             \"min_child_samples\": trial.suggest_int(\"min_child_samples\", 5, 50),\n",
    "#             'feature_fraction': trial.suggest_float('feature_fraction', 0.4, 1.0),\n",
    "#             'bagging_fraction': trial.suggest_float('bagging_fraction', 0.4, 1.0)}\n",
    "    \n",
    "#     lgbm_model = LGBMClassifier(**param)\n",
    "#     lgbm_model.fit(X_train, y_train)\n",
    "#     y_pred = lgbm_model.predict_proba(X_test)\n",
    "#     return roc_auc_score(y_test, y_pred, multi_class=\"ovr\")"
   ]
  },
  {
   "cell_type": "code",
   "execution_count": 7,
   "id": "16d315ef-feb3-4530-89f5-b25903aa191a",
   "metadata": {},
   "outputs": [],
   "source": [
    "# %%time\n",
    "# study = optuna.create_study(direction='maximize')\n",
    "# study.optimize(objective, n_trials=200)\n",
    "# study.best_params"
   ]
  },
  {
   "cell_type": "code",
   "execution_count": 8,
   "id": "483a5c1c-8329-464d-9c6a-ec4ead8aaf59",
   "metadata": {},
   "outputs": [],
   "source": [
    "params ={\n",
    "        #\"objective\": \"multiclass\",\n",
    "        #\"metric\": \"multi_logloss\",\n",
    "        \"verbosity\": -1,\n",
    "        \"boosting_type\": \"gbdt\",\n",
    "        \"random_state\": 42,\n",
    "        \"num_class\": 7,\n",
    "        'learning_rate': 0.010796336532769835,\n",
    "        'n_estimators': 364,\n",
    "        'lambda_l1': 1.971431159270062e-08,\n",
    "        'lambda_l2': 2.969222950399536e-08,\n",
    "        'max_depth': 6,\n",
    "        'colsample_bytree': 0.6549848799184741,\n",
    "        'subsample': 0.8955542124621352,\n",
    "        'min_child_samples': 11,\n",
    "        'feature_fraction': 0.48325162720615855,\n",
    "        'bagging_fraction': 0.9424422755677117\n",
    "}"
   ]
  },
  {
   "cell_type": "code",
   "execution_count": 9,
   "id": "e9950356-ea01-4c09-be72-3e0fb5d51c02",
   "metadata": {},
   "outputs": [
    {
     "name": "stdout",
     "output_type": "stream",
     "text": [
      "0.8825733651031602\n"
     ]
    }
   ],
   "source": [
    "lgbm_model = LGBMClassifier(**params)\n",
    "lgbm_model.fit(X_train, y_train)\n",
    "y_pred = lgbm_model.predict_proba(X_test)\n",
    "print(roc_auc_score(y_test, y_pred, multi_class=\"ovr\"))"
   ]
  },
  {
   "cell_type": "code",
   "execution_count": 10,
   "id": "7e1f38a8-2874-42c8-a8ef-a72b3688a36e",
   "metadata": {},
   "outputs": [],
   "source": [
    "lgbm_model.fit(X, y)\n",
    "pred = lgbm_model.predict_proba(df_pred)"
   ]
  },
  {
   "cell_type": "code",
   "execution_count": 11,
   "id": "3048d3dd-f2b5-4699-8a2b-0690120ceea8",
   "metadata": {},
   "outputs": [],
   "source": [
    "submission = pd.DataFrame(pred, columns=lst_target, index=df_pred.index)\n",
    "submission.to_csv('model.csv', index=True)"
   ]
  },
  {
   "cell_type": "markdown",
   "id": "daaaabda-f150-4a47-89e1-afa2debf8b05",
   "metadata": {},
   "source": [
    "# kaggle = 0.89149"
   ]
  },
  {
   "cell_type": "code",
   "execution_count": null,
   "id": "a2489df0-9343-4b85-9dd5-797689bd90b5",
   "metadata": {},
   "outputs": [],
   "source": []
  }
 ],
 "metadata": {
  "kernelspec": {
   "display_name": "cat",
   "language": "python",
   "name": "cat"
  },
  "language_info": {
   "codemirror_mode": {
    "name": "ipython",
    "version": 3
   },
   "file_extension": ".py",
   "mimetype": "text/x-python",
   "name": "python",
   "nbconvert_exporter": "python",
   "pygments_lexer": "ipython3",
   "version": "3.11.4"
  }
 },
 "nbformat": 4,
 "nbformat_minor": 5
}
